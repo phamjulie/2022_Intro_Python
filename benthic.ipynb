{
  "nbformat": 4,
  "nbformat_minor": 0,
  "metadata": {
    "colab": {
      "provenance": [],
      "toc_visible": true,
      "authorship_tag": "ABX9TyOM/ulI1d735OL+DwkVA6+k"
    },
    "kernelspec": {
      "name": "python3",
      "display_name": "Python 3"
    },
    "language_info": {
      "name": "python"
    }
  },
  "cells": [
    {
      "cell_type": "code",
      "execution_count": null,
      "metadata": {
        "id": "1Bsd1sDPv-GR"
      },
      "outputs": [],
      "source": [
        "import numpy as np\n",
        "ben_d18O = np. loadtxt (’ benthic_stack .txt ’,skiprows =3)"
      ]
    }
  ]
}